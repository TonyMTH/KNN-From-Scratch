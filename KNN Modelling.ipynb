{
 "cells": [
  {
   "cell_type": "markdown",
   "metadata": {},
   "source": [
    "# KNN From Scratch"
   ]
  },
  {
   "cell_type": "code",
   "execution_count": 1,
   "metadata": {},
   "outputs": [],
   "source": [
    "#import libraries\n",
    "import numpy as np\n",
    "import pandas as pd\n",
    "from sklearn.datasets import make_blobs\n",
    "from sklearn.model_selection import train_test_split\n",
    "from sklearn.preprocessing import LabelEncoder\n",
    "from sklearn.preprocessing import StandardScaler\n",
    "import matplotlib.pyplot as plt\n",
    "import copy\n",
    "\n",
    "# import KNN from knn.py\n",
    "from knn import KNN"
   ]
  },
  {
   "cell_type": "markdown",
   "metadata": {},
   "source": [
    "## Step 1: Import dataset\n",
    "\n",
    "Dataset complete info: https://archive.ics.uci.edu/ml/machine-learning-databases/car/\n",
    "\n",
    "## Attribute Information:\n",
    "\n",
    "Class Values:\n",
    "\n",
    "unacc, acc, good, vgood\n",
    "\n",
    "Attributes:\n",
    "\n",
    "1. buying: vhigh, high, med, low.\n",
    "2. maint: vhigh, high, med, low.\n",
    "3. doors: 2, 3, 4, 5more.\n",
    "4. persons: 2, 4, more.\n",
    "5. lug_boot: small, med, big.\n",
    "6. safety: low, med, high.\n"
   ]
  },
  {
   "cell_type": "code",
   "execution_count": 2,
   "metadata": {},
   "outputs": [
    {
     "name": "stdout",
     "output_type": "stream",
     "text": [
      "Original Dataset\n",
      "  buying  maint doors persons lug_boot safety  class\n",
      "0  vhigh  vhigh     2       2    small    low  unacc\n",
      "1  vhigh  vhigh     2       2    small    med  unacc\n",
      "2  vhigh  vhigh     2       2    small   high  unacc\n",
      "3  vhigh  vhigh     2       2      med    low  unacc\n",
      "4  vhigh  vhigh     2       2      med    med  unacc\n",
      "\n",
      "Processed Dataset\n",
      "   class  buying_high  buying_low  buying_med  buying_vhigh  maint_high  \\\n",
      "0      2            0           0           0             1           0   \n",
      "1      2            0           0           0             1           0   \n",
      "2      2            0           0           0             1           0   \n",
      "3      2            0           0           0             1           0   \n",
      "4      2            0           0           0             1           0   \n",
      "\n",
      "   maint_low  maint_med  maint_vhigh  doors_2  ...  doors_5more  persons_2  \\\n",
      "0          0          0            1        1  ...            0          1   \n",
      "1          0          0            1        1  ...            0          1   \n",
      "2          0          0            1        1  ...            0          1   \n",
      "3          0          0            1        1  ...            0          1   \n",
      "4          0          0            1        1  ...            0          1   \n",
      "\n",
      "   persons_4  persons_more  lug_boot_big  lug_boot_med  lug_boot_small  \\\n",
      "0          0             0             0             0               1   \n",
      "1          0             0             0             0               1   \n",
      "2          0             0             0             0               1   \n",
      "3          0             0             0             1               0   \n",
      "4          0             0             0             1               0   \n",
      "\n",
      "   safety_high  safety_low  safety_med  \n",
      "0            0           1           0  \n",
      "1            0           0           1  \n",
      "2            1           0           0  \n",
      "3            0           1           0  \n",
      "4            0           0           1  \n",
      "\n",
      "[5 rows x 22 columns]\n"
     ]
    }
   ],
   "source": [
    "#load to dataframe\n",
    "path = 'https://archive.ics.uci.edu/ml/machine-learning-databases/car/car.data'\n",
    "columns =[\"buying\",\"maint\",\"doors\",\"persons\",\"lug_boot\",\"safety\",\"class\"]\n",
    "df = pd.read_csv(path, index_col=False, header=None, names=columns)\n",
    "\n",
    "print('Original Dataset')\n",
    "print(df.head())\n",
    "\n",
    "# Transform categorical variables (except the target) into one-hot encoding\n",
    "df = pd.get_dummies(df,columns=df.columns.values[:-1])\n",
    "\n",
    "#transform the target into numeric codes\n",
    "labelencoder= LabelEncoder()\n",
    "df[\"class\"] = labelencoder.fit_transform(df[\"class\"])\n",
    "\n",
    "# #inspect the head\n",
    "print('\\nProcessed Dataset')\n",
    "print(df.head())\n",
    "\n",
    "\n",
    "# However "
   ]
  },
  {
   "cell_type": "markdown",
   "metadata": {},
   "source": [
    "## Load your data into X and y"
   ]
  },
  {
   "cell_type": "code",
   "execution_count": 3,
   "metadata": {},
   "outputs": [],
   "source": [
    "X,y = df.drop('class',axis=1).values, df[\"class\"].values\n",
    "# X,y = make_blobs(n_samples=300,centers=4,cluster_std=0.6,random_state=0)"
   ]
  },
  {
   "cell_type": "markdown",
   "metadata": {},
   "source": [
    "## Plot X (Use this is X has 2-dimension)"
   ]
  },
  {
   "cell_type": "code",
   "execution_count": 4,
   "metadata": {},
   "outputs": [
    {
     "data": {
      "image/png": "[encoded data removed]",
      "text/plain": [
       "<Figure size 432x288 with 1 Axes>"
      ]
     },
     "metadata": {
      "needs_background": "light"
     },
     "output_type": "display_data"
    }
   ],
   "source": [
    "KNN().make_plot(y,X,'Car Evaluation')"
   ]
  },
  {
   "cell_type": "markdown",
   "metadata": {},
   "source": [
    "## Define train test split"
   ]
  },
  {
   "cell_type": "code",
   "execution_count": 5,
   "metadata": {},
   "outputs": [],
   "source": [
    "train_X, test_X, y_train, y_test = train_test_split(X,y,test_size=.2,stratify=y,random_state=0)"
   ]
  },
  {
   "cell_type": "markdown",
   "metadata": {},
   "source": [
    "## Normalize the dataset"
   ]
  },
  {
   "cell_type": "code",
   "execution_count": 6,
   "metadata": {},
   "outputs": [],
   "source": [
    "scalar = StandardScaler()\n",
    "Xfit = scalar.fit(train_X)\n",
    "X_train = Xfit.transform(train_X)\n",
    "X_test = Xfit.transform(test_X)"
   ]
  },
  {
   "cell_type": "markdown",
   "metadata": {},
   "source": [
    "## Fit the model"
   ]
  },
  {
   "cell_type": "code",
   "execution_count": 7,
   "metadata": {},
   "outputs": [],
   "source": [
    "model = KNN().fit(X_train, y_train)"
   ]
  },
  {
   "cell_type": "markdown",
   "metadata": {},
   "source": [
    "## Compute Accuracy"
   ]
  },
  {
   "cell_type": "code",
   "execution_count": 8,
   "metadata": {},
   "outputs": [
    {
     "name": "stdout",
     "output_type": "stream",
     "text": [
      "Train Accuracy 91.10%\n",
      "Test Accuracy 71.68%\n"
     ]
    }
   ],
   "source": [
    "Train_pred_y = model.predict(X_train)\n",
    "Test_pred_y = model.predict(X_test)\n",
    "\n",
    "print('Train Accuracy {:0.2f}%'.format( model.evaluate(y_train,Train_pred_y)*100 ))\n",
    "print('Test Accuracy {:0.2f}%'.format( model.evaluate(y_test,Test_pred_y)*100 ))"
   ]
  },
  {
   "cell_type": "markdown",
   "metadata": {},
   "source": [
    "## Search for best k"
   ]
  },
  {
   "cell_type": "code",
   "execution_count": 9,
   "metadata": {},
   "outputs": [
    {
     "name": "stdout",
     "output_type": "stream",
     "text": [
      "Maximum k: 37\n",
      "\n",
      "Iterations\n",
      "=============================================\n",
      "\n",
      "Train Accuracy: 100.00%\tTest Accuracy: 76.59%\n",
      "Train Accuracy: 91.10%\tTest Accuracy: 71.68%\n",
      "Train Accuracy: 93.42%\tTest Accuracy: 82.08%\n",
      "Train Accuracy: 91.68%\tTest Accuracy: 85.84%\n",
      "Train Accuracy: 94.65%\tTest Accuracy: 89.88%\n",
      "Train Accuracy: 95.37%\tTest Accuracy: 90.46%\n",
      "Train Accuracy: 94.65%\tTest Accuracy: 90.17%\n",
      "Train Accuracy: 93.27%\tTest Accuracy: 89.02%\n",
      "Train Accuracy: 90.74%\tTest Accuracy: 85.55%\n",
      "Train Accuracy: 89.36%\tTest Accuracy: 83.82%\n",
      "Train Accuracy: 87.12%\tTest Accuracy: 80.92%\n",
      "Train Accuracy: 85.82%\tTest Accuracy: 80.06%\n",
      "Train Accuracy: 83.72%\tTest Accuracy: 78.90%\n",
      "Train Accuracy: 81.98%\tTest Accuracy: 77.17%\n",
      "Train Accuracy: 79.67%\tTest Accuracy: 76.30%\n",
      "Train Accuracy: 78.80%\tTest Accuracy: 74.86%\n",
      "Train Accuracy: 78.22%\tTest Accuracy: 75.43%\n",
      "Train Accuracy: 78.08%\tTest Accuracy: 75.72%\n",
      "Best k:  11\n"
     ]
    }
   ],
   "source": [
    "max_k = int(np.sqrt(X_train.shape[0]))\n",
    "print('Maximum k: '+str(max_k)+ '\\n\\nIterations\\n'+'='*45+'\\n') \n",
    "\n",
    "best_model = None\n",
    "best_test_accuracy = 0\n",
    "train,test = [],[]\n",
    "all_k = range(1,max_k,2)\n",
    "\n",
    "for k in all_k:\n",
    "\n",
    "    #fit model\n",
    "    model = KNN(k).fit(X_train, y_train)\n",
    "\n",
    "    #predict train and test\n",
    "    Train_pred_y = model.predict(X_train)\n",
    "    Test_pred_y = model.predict(X_test)\n",
    "    Train_pred_y = model.evaluate(y_train,Train_pred_y)*100\n",
    "    Test_pred_y = model.evaluate(y_test,Test_pred_y)*100\n",
    "\n",
    "    #add to lists\n",
    "    train.append(Train_pred_y)\n",
    "    test.append(Test_pred_y)\n",
    "\n",
    "    #get best model\n",
    "    if Test_pred_y > best_test_accuracy:\n",
    "        best_test_accuracy = Test_pred_y\n",
    "        best_model = copy.deepcopy(model)\n",
    "    print('Train Accuracy: {:0.2f}%\\tTest Accuracy: {:0.2f}%'.format( Train_pred_y, Test_pred_y ))\n",
    "\n",
    "print('Best k: ',best_model.k)"
   ]
  },
  {
   "cell_type": "markdown",
   "metadata": {},
   "source": [
    "## Plot Accuracy curve"
   ]
  },
  {
   "cell_type": "code",
   "execution_count": 10,
   "metadata": {},
   "outputs": [
    {
     "data": {
      "text/plain": [
       "<matplotlib.legend.Legend at 0x1ce53aadf40>"
      ]
     },
     "execution_count": 10,
     "metadata": {},
     "output_type": "execute_result"
    },
    {
     "data": {
      "image/png": "[encoded data removed]",
      "text/plain": [
       "<Figure size 432x288 with 1 Axes>"
      ]
     },
     "metadata": {
      "needs_background": "light"
     },
     "output_type": "display_data"
    }
   ],
   "source": [
    "plt.plot(all_k,train,label='train')\n",
    "plt.plot(all_k,test,label='test')\n",
    "plt.xlabel('k')\n",
    "plt.ylabel('Accuracy')\n",
    "plt.title('Accuracy Curve')\n",
    "plt.legend()"
   ]
  },
  {
   "cell_type": "markdown",
   "metadata": {},
   "source": [
    "## Single value prediction with best model"
   ]
  },
  {
   "cell_type": "code",
   "execution_count": 11,
   "metadata": {},
   "outputs": [
    {
     "name": "stdout",
     "output_type": "stream",
     "text": [
      "[[0 1 0 0 0 0 0 1 1 0 0 0 0 0 1 0 0 1 0 1 0]] [2]\n"
     ]
    }
   ],
   "source": [
    "features = test_X[0].reshape(1, -1)\n",
    "\n",
    "features_norm = Xfit.transform(features)\n",
    "y_pred = best_model.predict(features_norm)\n",
    "\n",
    "print(features, y_pred)"
   ]
  },
  {
   "cell_type": "markdown",
   "metadata": {},
   "source": []
  }
 ],
 "metadata": {
  "interpreter": {
   "hash": "2f9376a53bea67c1ed5cf17fe4a618ec842560647dcd0f876afebe1c5f60995f"
  },
  "kernelspec": {
   "display_name": "Python 3.8.11 64-bit ('strive': conda)",
   "name": "python3"
  },
  "language_info": {
   "codemirror_mode": {
    "name": "ipython",
    "version": 3
   },
   "file_extension": ".py",
   "mimetype": "text/x-python",
   "name": "python",
   "nbconvert_exporter": "python",
   "pygments_lexer": "ipython3",
   "version": "3.8.11"
  },
  "varInspector": {
   "cols": {
    "lenName": 16,
    "lenType": 16,
    "lenVar": 40
   },
   "kernels_config": {
    "python": {
     "delete_cmd_postfix": "",
     "delete_cmd_prefix": "del ",
     "library": "var_list.py",
     "varRefreshCmd": "print(var_dic_list())"
    },
    "r": {
     "delete_cmd_postfix": ") ",
     "delete_cmd_prefix": "rm(",
     "library": "var_list.r",
     "varRefreshCmd": "cat(var_dic_list()) "
    }
   },
   "types_to_exclude": [
    "module",
    "function",
    "builtin_function_or_method",
    "instance",
    "_Feature"
   ],
   "window_display": false
  }
 },
 "nbformat": 4,
 "nbformat_minor": 4
}
